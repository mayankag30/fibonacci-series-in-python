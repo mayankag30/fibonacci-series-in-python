{
 "cells": [
  {
   "cell_type": "code",
   "execution_count": 1,
   "metadata": {},
   "outputs": [
    {
     "name": "stdout",
     "output_type": "stream",
     "text": [
      "Enter the number of elements: 5\n",
      "Enter a number: 2\n",
      "Enter a number: -3\n",
      "Enter a number: 5\n",
      "Enter a number: -1\n",
      "Enter a number: 4\n",
      "2 , 5 , 4 , "
     ]
    }
   ],
   "source": [
    "n = int(input(\"Enter the number of elements: \"))\n",
    "myList = []\n",
    "for i in range(0,n):\n",
    "    number = int(input(\"Enter a number: \"))\n",
    "    myList.append(number)\n",
    "for i in myList:\n",
    "    if i>0:\n",
    "        print(i,\",\",end=\" \")\n",
    "        \n",
    "    "
   ]
  },
  {
   "cell_type": "code",
   "execution_count": null,
   "metadata": {},
   "outputs": [],
   "source": []
  }
 ],
 "metadata": {
  "kernelspec": {
   "display_name": "Python 3",
   "language": "python",
   "name": "python3"
  },
  "language_info": {
   "codemirror_mode": {
    "name": "ipython",
    "version": 3
   },
   "file_extension": ".py",
   "mimetype": "text/x-python",
   "name": "python",
   "nbconvert_exporter": "python",
   "pygments_lexer": "ipython3",
   "version": "3.7.4"
  }
 },
 "nbformat": 4,
 "nbformat_minor": 2
}
